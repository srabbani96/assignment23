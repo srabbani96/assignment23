{
 "cells": [
  {
   "cell_type": "code",
   "execution_count": 2,
   "metadata": {},
   "outputs": [
    {
     "name": "stdout",
     "output_type": "stream",
     "text": [
      "(5, 10, 4, 5, 7)\n"
     ]
    }
   ],
   "source": [
    "#answer 1\n",
    "\n",
    "lt=[5,10,4,5,7]\n",
    "print(tuple(lt))"
   ]
  },
  {
   "cell_type": "code",
   "execution_count": 3,
   "metadata": {},
   "outputs": [
    {
     "name": "stdout",
     "output_type": "stream",
     "text": [
      "h\n",
      "m\n"
     ]
    }
   ],
   "source": [
    "#answer 2\n",
    "\n",
    "r1=(\"p\",\"y\",\"t\",\"h\",\"o\",\"n\",\"p\",\"o\",\"g\",\"r\",\"a\",\"m\",\"m\",\"i\",\"n\",\"g\")\n",
    "b=len(r1)\n",
    "print(r1[3])\n",
    "print(r1[-4])"
   ]
  },
  {
   "cell_type": "code",
   "execution_count": 4,
   "metadata": {},
   "outputs": [
    {
     "name": "stdout",
     "output_type": "stream",
     "text": [
      "50\n"
     ]
    }
   ],
   "source": [
    "#answer 3\n",
    "   \n",
    "list=[10,20,30,40,50]\n",
    "max=0\n",
    "for i in list:\n",
    "    if i>max:\n",
    "        max=i\n",
    "print(max)\n"
   ]
  },
  {
   "cell_type": "code",
   "execution_count": 8,
   "metadata": {},
   "outputs": [
    {
     "name": "stdout",
     "output_type": "stream",
     "text": [
      "[48, 34, 44, 24, 58, 54]\n"
     ]
    }
   ],
   "source": [
    "# answer 4\n",
    "\n",
    "lt=[23,45,67,48,99,34,44,24,58,54]\n",
    "bt=[]\n",
    "for i in lt:\n",
    "    if (i%2==0):\n",
    "        bt.append(i)\n",
    "        \n",
    "print(bt)\n",
    "        \n"
   ]
  },
  {
   "cell_type": "code",
   "execution_count": 13,
   "metadata": {},
   "outputs": [
    {
     "name": "stdout",
     "output_type": "stream",
     "text": [
      "enter number5\n",
      "{1: 1, 2: 4, 3: 9, 4: 16, 5: 25}\n"
     ]
    }
   ],
   "source": [
    "#answer 5\n",
    "dict={}\n",
    "n=int(input('enter number'))\n",
    "for i in range(1,n+1):\n",
    "    dict[i]=i*i\n",
    "print(dict)"
   ]
  },
  {
   "cell_type": "code",
   "execution_count": 18,
   "metadata": {},
   "outputs": [
    {
     "name": "stdout",
     "output_type": "stream",
     "text": [
      "{0: 10, 1: 20}\n",
      "dict after adding\n",
      "{0: 10, 1: 20, 2: 30}\n"
     ]
    }
   ],
   "source": [
    "#answer 6\n",
    "dict={0:10,1:20}\n",
    "print(dict)\n",
    "print('dict after adding')\n",
    "dict[2]=30\n",
    "print(dict)"
   ]
  },
  {
   "cell_type": "code",
   "execution_count": null,
   "metadata": {},
   "outputs": [],
   "source": []
  },
  {
   "cell_type": "code",
   "execution_count": null,
   "metadata": {},
   "outputs": [],
   "source": []
  }
 ],
 "metadata": {
  "kernelspec": {
   "display_name": "Python 3",
   "language": "python",
   "name": "python3"
  },
  "language_info": {
   "codemirror_mode": {
    "name": "ipython",
    "version": 3
   },
   "file_extension": ".py",
   "mimetype": "text/x-python",
   "name": "python",
   "nbconvert_exporter": "python",
   "pygments_lexer": "ipython3",
   "version": "3.7.1"
  }
 },
 "nbformat": 4,
 "nbformat_minor": 2
}
